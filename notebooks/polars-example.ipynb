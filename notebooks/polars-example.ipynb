{
 "cells": [
  {
   "cell_type": "markdown",
   "id": "93fd47c3",
   "metadata": {},
   "source": [
    "## polars example notebook\n",
    "- polars の使い方を学ぶ"
   ]
  },
  {
   "cell_type": "code",
   "execution_count": 1,
   "id": "ccc5842c",
   "metadata": {},
   "outputs": [],
   "source": [
    "%load_ext lab_black"
   ]
  },
  {
   "cell_type": "code",
   "execution_count": 2,
   "id": "91a43394",
   "metadata": {},
   "outputs": [],
   "source": [
    "import polars as pl\n",
    "import pandas as pd\n",
    "import numpy as np\n",
    "import pyarrow\n",
    "from datetime import datetime"
   ]
  },
  {
   "cell_type": "markdown",
   "id": "cd2dccdc",
   "metadata": {},
   "source": [
    "### 基本的な使い方\n",
    "\n",
    "#### DataFrame の作成"
   ]
  },
  {
   "cell_type": "code",
   "execution_count": 3,
   "id": "441d7c6d",
   "metadata": {},
   "outputs": [
    {
     "name": "stdout",
     "output_type": "stream",
     "text": [
      "shape: (3, 4)\n",
      "┌─────────┬─────────┬───────────┬──────────┐\n",
      "│ col_str ┆ col_int ┆ col_float ┆ col_bool │\n",
      "│ ---     ┆ ---     ┆ ---       ┆ ---      │\n",
      "│ str     ┆ i64     ┆ f64       ┆ bool     │\n",
      "╞═════════╪═════════╪═══════════╪══════════╡\n",
      "│ a       ┆ 1       ┆ 0.1       ┆ true     │\n",
      "├╌╌╌╌╌╌╌╌╌┼╌╌╌╌╌╌╌╌╌┼╌╌╌╌╌╌╌╌╌╌╌┼╌╌╌╌╌╌╌╌╌╌┤\n",
      "│ b       ┆ null    ┆ 0.2       ┆ true     │\n",
      "├╌╌╌╌╌╌╌╌╌┼╌╌╌╌╌╌╌╌╌┼╌╌╌╌╌╌╌╌╌╌╌┼╌╌╌╌╌╌╌╌╌╌┤\n",
      "│ c       ┆ 3       ┆ 0.3       ┆ false    │\n",
      "└─────────┴─────────┴───────────┴──────────┘\n"
     ]
    }
   ],
   "source": [
    "df = pl.DataFrame(\n",
    "    {\n",
    "        \"col_str\": [\"a\", \"b\", \"c\"],\n",
    "        \"col_int\": [1, None, 3],\n",
    "        \"col_float\": [0.1, 0.2, 0.3],\n",
    "        \"col_bool\": [True, True, False],\n",
    "    }\n",
    ")\n",
    "\n",
    "print(df)"
   ]
  },
  {
   "cell_type": "markdown",
   "id": "dd6df6c8",
   "metadata": {},
   "source": [
    "#### 列の追加"
   ]
  },
  {
   "cell_type": "code",
   "execution_count": 4,
   "id": "ab264ac6",
   "metadata": {},
   "outputs": [],
   "source": [
    "df[\"col_bool\"] = [True, True, False]"
   ]
  },
  {
   "cell_type": "code",
   "execution_count": 5,
   "id": "efe9c59d",
   "metadata": {},
   "outputs": [],
   "source": [
    "# Series を渡すこともできる：\n",
    "df = df.with_column(pl.Series(\"col_bool\", [True, True, False]))"
   ]
  },
  {
   "cell_type": "markdown",
   "id": "cc22883e",
   "metadata": {},
   "source": [
    "#### 列名の変更"
   ]
  },
  {
   "cell_type": "code",
   "execution_count": 6,
   "id": "1cf6348f",
   "metadata": {},
   "outputs": [
    {
     "data": {
      "text/html": [
       "<div>\n",
       "<style scoped>\n",
       "    .dataframe tbody tr th:only-of-type {\n",
       "        vertical-align: middle;\n",
       "    }\n",
       "\n",
       "    .dataframe tbody tr th {\n",
       "        vertical-align: top;\n",
       "    }\n",
       "\n",
       "    .dataframe thead th {\n",
       "        text-align: right;\n",
       "    }\n",
       "</style>\n",
       "<table border=\"1 \"class=\"dataframe \">\n",
       "<thead>\n",
       "<tr>\n",
       "<th>\n",
       "col_str\n",
       "</th>\n",
       "<th>\n",
       "col_int\n",
       "</th>\n",
       "<th>\n",
       "col_flt\n",
       "</th>\n",
       "<th>\n",
       "col_bool\n",
       "</th>\n",
       "</tr>\n",
       "<tr>\n",
       "<td>\n",
       "str\n",
       "</td>\n",
       "<td>\n",
       "i64\n",
       "</td>\n",
       "<td>\n",
       "f64\n",
       "</td>\n",
       "<td>\n",
       "bool\n",
       "</td>\n",
       "</tr>\n",
       "</thead>\n",
       "<tbody>\n",
       "<tr>\n",
       "<td>\n",
       "\"a\"\n",
       "</td>\n",
       "<td>\n",
       "1\n",
       "</td>\n",
       "<td>\n",
       "0.1\n",
       "</td>\n",
       "<td>\n",
       "true\n",
       "</td>\n",
       "</tr>\n",
       "<tr>\n",
       "<td>\n",
       "\"b\"\n",
       "</td>\n",
       "<td>\n",
       "null\n",
       "</td>\n",
       "<td>\n",
       "0.2\n",
       "</td>\n",
       "<td>\n",
       "true\n",
       "</td>\n",
       "</tr>\n",
       "<tr>\n",
       "<td>\n",
       "\"c\"\n",
       "</td>\n",
       "<td>\n",
       "3\n",
       "</td>\n",
       "<td>\n",
       "0.3\n",
       "</td>\n",
       "<td>\n",
       "false\n",
       "</td>\n",
       "</tr>\n",
       "</tbody>\n",
       "</table>\n",
       "</div>"
      ],
      "text/plain": [
       "shape: (3, 4)\n",
       "┌─────────┬─────────┬─────────┬──────────┐\n",
       "│ col_str ┆ col_int ┆ col_flt ┆ col_bool │\n",
       "│ ---     ┆ ---     ┆ ---     ┆ ---      │\n",
       "│ str     ┆ i64     ┆ f64     ┆ bool     │\n",
       "╞═════════╪═════════╪═════════╪══════════╡\n",
       "│ a       ┆ 1       ┆ 0.1     ┆ true     │\n",
       "├╌╌╌╌╌╌╌╌╌┼╌╌╌╌╌╌╌╌╌┼╌╌╌╌╌╌╌╌╌┼╌╌╌╌╌╌╌╌╌╌┤\n",
       "│ b       ┆ null    ┆ 0.2     ┆ true     │\n",
       "├╌╌╌╌╌╌╌╌╌┼╌╌╌╌╌╌╌╌╌┼╌╌╌╌╌╌╌╌╌┼╌╌╌╌╌╌╌╌╌╌┤\n",
       "│ c       ┆ 3       ┆ 0.3     ┆ false    │\n",
       "└─────────┴─────────┴─────────┴──────────┘"
      ]
     },
     "execution_count": 6,
     "metadata": {},
     "output_type": "execute_result"
    }
   ],
   "source": [
    "df = df.rename({\"col_float\": \"col_flt\"})\n",
    "df"
   ]
  },
  {
   "cell_type": "markdown",
   "id": "84c7edae",
   "metadata": {},
   "source": [
    "#### 型のcast"
   ]
  },
  {
   "cell_type": "code",
   "execution_count": 7,
   "id": "4af85028",
   "metadata": {},
   "outputs": [
    {
     "data": {
      "text/html": [
       "<div>\n",
       "<style scoped>\n",
       "    .dataframe tbody tr th:only-of-type {\n",
       "        vertical-align: middle;\n",
       "    }\n",
       "\n",
       "    .dataframe tbody tr th {\n",
       "        vertical-align: top;\n",
       "    }\n",
       "\n",
       "    .dataframe thead th {\n",
       "        text-align: right;\n",
       "    }\n",
       "</style>\n",
       "<table border=\"1 \"class=\"dataframe \">\n",
       "<thead>\n",
       "<tr>\n",
       "<th>\n",
       "col_str\n",
       "</th>\n",
       "<th>\n",
       "col_int\n",
       "</th>\n",
       "<th>\n",
       "col_flt\n",
       "</th>\n",
       "<th>\n",
       "col_bool\n",
       "</th>\n",
       "</tr>\n",
       "<tr>\n",
       "<td>\n",
       "str\n",
       "</td>\n",
       "<td>\n",
       "i64\n",
       "</td>\n",
       "<td>\n",
       "f32\n",
       "</td>\n",
       "<td>\n",
       "bool\n",
       "</td>\n",
       "</tr>\n",
       "</thead>\n",
       "<tbody>\n",
       "<tr>\n",
       "<td>\n",
       "\"a\"\n",
       "</td>\n",
       "<td>\n",
       "1\n",
       "</td>\n",
       "<td>\n",
       "0.10000000149011612\n",
       "</td>\n",
       "<td>\n",
       "true\n",
       "</td>\n",
       "</tr>\n",
       "<tr>\n",
       "<td>\n",
       "\"b\"\n",
       "</td>\n",
       "<td>\n",
       "null\n",
       "</td>\n",
       "<td>\n",
       "0.20000000298023224\n",
       "</td>\n",
       "<td>\n",
       "true\n",
       "</td>\n",
       "</tr>\n",
       "<tr>\n",
       "<td>\n",
       "\"c\"\n",
       "</td>\n",
       "<td>\n",
       "3\n",
       "</td>\n",
       "<td>\n",
       "0.30000001192092896\n",
       "</td>\n",
       "<td>\n",
       "false\n",
       "</td>\n",
       "</tr>\n",
       "</tbody>\n",
       "</table>\n",
       "</div>"
      ],
      "text/plain": [
       "shape: (3, 4)\n",
       "┌─────────┬─────────┬─────────────────────┬──────────┐\n",
       "│ col_str ┆ col_int ┆ col_flt             ┆ col_bool │\n",
       "│ ---     ┆ ---     ┆ ---                 ┆ ---      │\n",
       "│ str     ┆ i64     ┆ f32                 ┆ bool     │\n",
       "╞═════════╪═════════╪═════════════════════╪══════════╡\n",
       "│ a       ┆ 1       ┆ 0.10000000149011612 ┆ true     │\n",
       "├╌╌╌╌╌╌╌╌╌┼╌╌╌╌╌╌╌╌╌┼╌╌╌╌╌╌╌╌╌╌╌╌╌╌╌╌╌╌╌╌╌┼╌╌╌╌╌╌╌╌╌╌┤\n",
       "│ b       ┆ null    ┆ 0.20000000298023224 ┆ true     │\n",
       "├╌╌╌╌╌╌╌╌╌┼╌╌╌╌╌╌╌╌╌┼╌╌╌╌╌╌╌╌╌╌╌╌╌╌╌╌╌╌╌╌╌┼╌╌╌╌╌╌╌╌╌╌┤\n",
       "│ c       ┆ 3       ┆ 0.30000001192092896 ┆ false    │\n",
       "└─────────┴─────────┴─────────────────────┴──────────┘"
      ]
     },
     "execution_count": 7,
     "metadata": {},
     "output_type": "execute_result"
    }
   ],
   "source": [
    "df[\"col_flt\"] = df[\"col_flt\"].cast(pl.Float32)\n",
    "df"
   ]
  },
  {
   "cell_type": "markdown",
   "id": "07c4ac48",
   "metadata": {},
   "source": [
    "#### 列の削除"
   ]
  },
  {
   "cell_type": "code",
   "execution_count": 8,
   "id": "fde14a1a",
   "metadata": {},
   "outputs": [
    {
     "data": {
      "text/html": [
       "<div>\n",
       "<style scoped>\n",
       "    .dataframe tbody tr th:only-of-type {\n",
       "        vertical-align: middle;\n",
       "    }\n",
       "\n",
       "    .dataframe tbody tr th {\n",
       "        vertical-align: top;\n",
       "    }\n",
       "\n",
       "    .dataframe thead th {\n",
       "        text-align: right;\n",
       "    }\n",
       "</style>\n",
       "<table border=\"1 \"class=\"dataframe \">\n",
       "<thead>\n",
       "<tr>\n",
       "<th>\n",
       "col_str\n",
       "</th>\n",
       "<th>\n",
       "col_int\n",
       "</th>\n",
       "<th>\n",
       "col_bool\n",
       "</th>\n",
       "</tr>\n",
       "<tr>\n",
       "<td>\n",
       "str\n",
       "</td>\n",
       "<td>\n",
       "i64\n",
       "</td>\n",
       "<td>\n",
       "bool\n",
       "</td>\n",
       "</tr>\n",
       "</thead>\n",
       "<tbody>\n",
       "<tr>\n",
       "<td>\n",
       "\"a\"\n",
       "</td>\n",
       "<td>\n",
       "1\n",
       "</td>\n",
       "<td>\n",
       "true\n",
       "</td>\n",
       "</tr>\n",
       "<tr>\n",
       "<td>\n",
       "\"b\"\n",
       "</td>\n",
       "<td>\n",
       "null\n",
       "</td>\n",
       "<td>\n",
       "true\n",
       "</td>\n",
       "</tr>\n",
       "<tr>\n",
       "<td>\n",
       "\"c\"\n",
       "</td>\n",
       "<td>\n",
       "3\n",
       "</td>\n",
       "<td>\n",
       "false\n",
       "</td>\n",
       "</tr>\n",
       "</tbody>\n",
       "</table>\n",
       "</div>"
      ],
      "text/plain": [
       "shape: (3, 3)\n",
       "┌─────────┬─────────┬──────────┐\n",
       "│ col_str ┆ col_int ┆ col_bool │\n",
       "│ ---     ┆ ---     ┆ ---      │\n",
       "│ str     ┆ i64     ┆ bool     │\n",
       "╞═════════╪═════════╪══════════╡\n",
       "│ a       ┆ 1       ┆ true     │\n",
       "├╌╌╌╌╌╌╌╌╌┼╌╌╌╌╌╌╌╌╌┼╌╌╌╌╌╌╌╌╌╌┤\n",
       "│ b       ┆ null    ┆ true     │\n",
       "├╌╌╌╌╌╌╌╌╌┼╌╌╌╌╌╌╌╌╌┼╌╌╌╌╌╌╌╌╌╌┤\n",
       "│ c       ┆ 3       ┆ false    │\n",
       "└─────────┴─────────┴──────────┘"
      ]
     },
     "execution_count": 8,
     "metadata": {},
     "output_type": "execute_result"
    }
   ],
   "source": [
    "df = df.drop(\"col_flt\")\n",
    "df"
   ]
  },
  {
   "cell_type": "markdown",
   "id": "7c4aeea6",
   "metadata": {},
   "source": [
    "#### NULL を埋める"
   ]
  },
  {
   "cell_type": "code",
   "execution_count": 9,
   "id": "ef6fdc9e",
   "metadata": {},
   "outputs": [
    {
     "data": {
      "text/html": [
       "<div>\n",
       "<style scoped>\n",
       "    .dataframe tbody tr th:only-of-type {\n",
       "        vertical-align: middle;\n",
       "    }\n",
       "\n",
       "    .dataframe tbody tr th {\n",
       "        vertical-align: top;\n",
       "    }\n",
       "\n",
       "    .dataframe thead th {\n",
       "        text-align: right;\n",
       "    }\n",
       "</style>\n",
       "<table border=\"1 \"class=\"dataframe \">\n",
       "<thead>\n",
       "<tr>\n",
       "<th>\n",
       "col_str\n",
       "</th>\n",
       "<th>\n",
       "col_int\n",
       "</th>\n",
       "<th>\n",
       "col_bool\n",
       "</th>\n",
       "</tr>\n",
       "<tr>\n",
       "<td>\n",
       "str\n",
       "</td>\n",
       "<td>\n",
       "i64\n",
       "</td>\n",
       "<td>\n",
       "bool\n",
       "</td>\n",
       "</tr>\n",
       "</thead>\n",
       "<tbody>\n",
       "<tr>\n",
       "<td>\n",
       "\"a\"\n",
       "</td>\n",
       "<td>\n",
       "1\n",
       "</td>\n",
       "<td>\n",
       "true\n",
       "</td>\n",
       "</tr>\n",
       "<tr>\n",
       "<td>\n",
       "\"b\"\n",
       "</td>\n",
       "<td>\n",
       "0\n",
       "</td>\n",
       "<td>\n",
       "true\n",
       "</td>\n",
       "</tr>\n",
       "<tr>\n",
       "<td>\n",
       "\"c\"\n",
       "</td>\n",
       "<td>\n",
       "3\n",
       "</td>\n",
       "<td>\n",
       "false\n",
       "</td>\n",
       "</tr>\n",
       "</tbody>\n",
       "</table>\n",
       "</div>"
      ],
      "text/plain": [
       "shape: (3, 3)\n",
       "┌─────────┬─────────┬──────────┐\n",
       "│ col_str ┆ col_int ┆ col_bool │\n",
       "│ ---     ┆ ---     ┆ ---      │\n",
       "│ str     ┆ i64     ┆ bool     │\n",
       "╞═════════╪═════════╪══════════╡\n",
       "│ a       ┆ 1       ┆ true     │\n",
       "├╌╌╌╌╌╌╌╌╌┼╌╌╌╌╌╌╌╌╌┼╌╌╌╌╌╌╌╌╌╌┤\n",
       "│ b       ┆ 0       ┆ true     │\n",
       "├╌╌╌╌╌╌╌╌╌┼╌╌╌╌╌╌╌╌╌┼╌╌╌╌╌╌╌╌╌╌┤\n",
       "│ c       ┆ 3       ┆ false    │\n",
       "└─────────┴─────────┴──────────┘"
      ]
     },
     "execution_count": 9,
     "metadata": {},
     "output_type": "execute_result"
    }
   ],
   "source": [
    "df = df.fill_null(0)\n",
    "df"
   ]
  },
  {
   "cell_type": "markdown",
   "id": "6a0f10c6",
   "metadata": {},
   "source": [
    "#### その他"
   ]
  },
  {
   "cell_type": "code",
   "execution_count": 10,
   "id": "d3fc983a",
   "metadata": {},
   "outputs": [
    {
     "name": "stdout",
     "output_type": "stream",
     "text": [
      "shape: (2, 3)\n",
      "┌─────────┬─────────┬──────────┐\n",
      "│ col_str ┆ col_int ┆ col_bool │\n",
      "│ ---     ┆ ---     ┆ ---      │\n",
      "│ str     ┆ i64     ┆ bool     │\n",
      "╞═════════╪═════════╪══════════╡\n",
      "│ a       ┆ 1       ┆ true     │\n",
      "├╌╌╌╌╌╌╌╌╌┼╌╌╌╌╌╌╌╌╌┼╌╌╌╌╌╌╌╌╌╌┤\n",
      "│ b       ┆ 0       ┆ true     │\n",
      "└─────────┴─────────┴──────────┘\n"
     ]
    }
   ],
   "source": [
    "print(df.head(2))"
   ]
  },
  {
   "cell_type": "code",
   "execution_count": 11,
   "id": "be67937d",
   "metadata": {},
   "outputs": [
    {
     "name": "stdout",
     "output_type": "stream",
     "text": [
      "shape: (2, 3)\n",
      "┌─────────┬─────────┬──────────┐\n",
      "│ col_str ┆ col_int ┆ col_bool │\n",
      "│ ---     ┆ ---     ┆ ---      │\n",
      "│ str     ┆ i64     ┆ bool     │\n",
      "╞═════════╪═════════╪══════════╡\n",
      "│ b       ┆ 0       ┆ true     │\n",
      "├╌╌╌╌╌╌╌╌╌┼╌╌╌╌╌╌╌╌╌┼╌╌╌╌╌╌╌╌╌╌┤\n",
      "│ c       ┆ 3       ┆ false    │\n",
      "└─────────┴─────────┴──────────┘\n"
     ]
    }
   ],
   "source": [
    "print(df[1:])"
   ]
  },
  {
   "cell_type": "code",
   "execution_count": 12,
   "id": "abfd2b47",
   "metadata": {},
   "outputs": [
    {
     "name": "stdout",
     "output_type": "stream",
     "text": [
      "shape: (1, 1)\n",
      "┌─────────┐\n",
      "│ col_int │\n",
      "│ ---     │\n",
      "│ i64     │\n",
      "╞═════════╡\n",
      "│ 3       │\n",
      "└─────────┘\n"
     ]
    }
   ],
   "source": [
    "print(df[[2], [1]])"
   ]
  },
  {
   "cell_type": "code",
   "execution_count": 13,
   "id": "1c2a8907",
   "metadata": {},
   "outputs": [
    {
     "name": "stdout",
     "output_type": "stream",
     "text": [
      "False\n"
     ]
    }
   ],
   "source": [
    "print(df[-1, \"col_bool\"])"
   ]
  },
  {
   "cell_type": "markdown",
   "id": "fc56bb25",
   "metadata": {},
   "source": [
    "#### pandas や numpy への変換"
   ]
  },
  {
   "cell_type": "code",
   "execution_count": 14,
   "id": "c05d0305",
   "metadata": {},
   "outputs": [
    {
     "name": "stdout",
     "output_type": "stream",
     "text": [
      "  col_str  col_int  col_bool\n",
      "0       a        1      True\n",
      "1       b        0      True\n",
      "2       c        3     False\n"
     ]
    }
   ],
   "source": [
    "print(df.to_pandas())"
   ]
  },
  {
   "cell_type": "code",
   "execution_count": 15,
   "id": "68788e6d",
   "metadata": {},
   "outputs": [
    {
     "name": "stdout",
     "output_type": "stream",
     "text": [
      "[['a' 1 True]\n",
      " ['b' 0 True]\n",
      " ['c' 3 False]]\n"
     ]
    }
   ],
   "source": [
    "print(df.to_numpy())"
   ]
  },
  {
   "cell_type": "markdown",
   "id": "585a59f9",
   "metadata": {},
   "source": [
    "#### Config"
   ]
  },
  {
   "cell_type": "code",
   "execution_count": 16,
   "id": "831cf708",
   "metadata": {},
   "outputs": [
    {
     "data": {
      "text/plain": [
       "polars.cfg.Config"
      ]
     },
     "execution_count": 16,
     "metadata": {},
     "output_type": "execute_result"
    }
   ],
   "source": [
    "pl.Config.set_tbl_rows(20)\n",
    "pl.Config.set_tbl_cols(10)"
   ]
  },
  {
   "cell_type": "markdown",
   "id": "8368bdcb",
   "metadata": {},
   "source": [
    "#### map や apply"
   ]
  },
  {
   "cell_type": "code",
   "execution_count": 17,
   "id": "7afe1638",
   "metadata": {},
   "outputs": [
    {
     "name": "stdout",
     "output_type": "stream",
     "text": [
      "shape: (3, 6)\n",
      "┌─────────┬─────────┬──────────┬───────────────┬─────┬────────────────────┐\n",
      "│ col_str ┆ col_int ┆ col_bool ┆ col_int_div_2 ┆ wto ┆ col_int_not_in_1_2 │\n",
      "│ ---     ┆ ---     ┆ ---      ┆ ---           ┆ --- ┆ ---                │\n",
      "│ str     ┆ i64     ┆ bool     ┆ f64           ┆ i64 ┆ bool               │\n",
      "╞═════════╪═════════╪══════════╪═══════════════╪═════╪════════════════════╡\n",
      "│ a       ┆ 1       ┆ true     ┆ 0.5           ┆ 7   ┆ false              │\n",
      "├╌╌╌╌╌╌╌╌╌┼╌╌╌╌╌╌╌╌╌┼╌╌╌╌╌╌╌╌╌╌┼╌╌╌╌╌╌╌╌╌╌╌╌╌╌╌┼╌╌╌╌╌┼╌╌╌╌╌╌╌╌╌╌╌╌╌╌╌╌╌╌╌╌┤\n",
      "│ b       ┆ 0       ┆ true     ┆ 0.0           ┆ 8   ┆ true               │\n",
      "├╌╌╌╌╌╌╌╌╌┼╌╌╌╌╌╌╌╌╌┼╌╌╌╌╌╌╌╌╌╌┼╌╌╌╌╌╌╌╌╌╌╌╌╌╌╌┼╌╌╌╌╌┼╌╌╌╌╌╌╌╌╌╌╌╌╌╌╌╌╌╌╌╌┤\n",
      "│ c       ┆ 3       ┆ false    ┆ 1.5           ┆ 1   ┆ true               │\n",
      "└─────────┴─────────┴──────────┴───────────────┴─────┴────────────────────┘\n"
     ]
    }
   ],
   "source": [
    "df[\"col_int_div_2\"] = df[\"col_int\"].apply(lambda x: x / 2)\n",
    "df = df.hstack(\n",
    "    df[\n",
    "        pl.when(pl.col(\"col_int_div_2\") >= 1)\n",
    "        .then(1)\n",
    "        .otherwise(pl.Series([7, 8, 9]))\n",
    "        .alias(\"wto\")\n",
    "    ]\n",
    ")\n",
    "df = df.hstack(\n",
    "    df.select([pl.col(\"col_int\").is_in([1, 2]).is_not().alias(\"col_int_not_in_1_2\")])\n",
    ")\n",
    "print(df)"
   ]
  },
  {
   "cell_type": "markdown",
   "id": "b02453ba",
   "metadata": {},
   "source": [
    "#### 結合"
   ]
  },
  {
   "cell_type": "code",
   "execution_count": 18,
   "id": "6057979f",
   "metadata": {},
   "outputs": [
    {
     "name": "stdout",
     "output_type": "stream",
     "text": [
      "shape: (3, 3)\n",
      "┌─────────┬─────────┬─────────────────────┐\n",
      "│ col_str ┆ col_int ┆ col_datetime        │\n",
      "│ ---     ┆ ---     ┆ ---                 │\n",
      "│ str     ┆ i64     ┆ datetime            │\n",
      "╞═════════╪═════════╪═════════════════════╡\n",
      "│ a       ┆ 1       ┆ 2021-10-12 01:20:30 │\n",
      "├╌╌╌╌╌╌╌╌╌┼╌╌╌╌╌╌╌╌╌┼╌╌╌╌╌╌╌╌╌╌╌╌╌╌╌╌╌╌╌╌╌┤\n",
      "│ b       ┆ 0       ┆ null                │\n",
      "├╌╌╌╌╌╌╌╌╌┼╌╌╌╌╌╌╌╌╌┼╌╌╌╌╌╌╌╌╌╌╌╌╌╌╌╌╌╌╌╌╌┤\n",
      "│ c       ┆ 3       ┆ 2021-10-15 01:20:30 │\n",
      "└─────────┴─────────┴─────────────────────┘\n"
     ]
    },
    {
     "name": "stderr",
     "output_type": "stream",
     "text": [
      "/tmp/Python/python-3.9.6/lib/python3.9/site-packages/polars/utils.py:29: UserWarning: Conversion of (potentially) timezone aware to naive datetimes. TZ information may be lost\n",
      "  warnings.warn(\n"
     ]
    }
   ],
   "source": [
    "df_2 = pl.DataFrame(\n",
    "    {\n",
    "        \"col_str\": [\"a\", \"c\", \"d\"],\n",
    "        \"col_datetime\": [\n",
    "            datetime.strptime(f\"2021-10-{i} 10:20:30 +0900\", \"%Y-%m-%d %H:%M:%S %z\")\n",
    "            for i in [12, 15, 17]\n",
    "        ],\n",
    "    }\n",
    ")\n",
    "df_join = df[[\"col_str\", \"col_int\"]].join(df_2, on=\"col_str\", how=\"left\")\n",
    "print(df_join)"
   ]
  },
  {
   "cell_type": "code",
   "execution_count": 19,
   "id": "4b2d7b70",
   "metadata": {},
   "outputs": [
    {
     "name": "stdout",
     "output_type": "stream",
     "text": [
      "shape: (6, 2)\n",
      "┌─────────┬─────────┐\n",
      "│ col_str ┆ col_int │\n",
      "│ ---     ┆ ---     │\n",
      "│ str     ┆ i64     │\n",
      "╞═════════╪═════════╡\n",
      "│ a       ┆ 1       │\n",
      "├╌╌╌╌╌╌╌╌╌┼╌╌╌╌╌╌╌╌╌┤\n",
      "│ b       ┆ 0       │\n",
      "├╌╌╌╌╌╌╌╌╌┼╌╌╌╌╌╌╌╌╌┤\n",
      "│ c       ┆ 3       │\n",
      "├╌╌╌╌╌╌╌╌╌┼╌╌╌╌╌╌╌╌╌┤\n",
      "│ x       ┆ 7       │\n",
      "├╌╌╌╌╌╌╌╌╌┼╌╌╌╌╌╌╌╌╌┤\n",
      "│ y       ┆ 8       │\n",
      "├╌╌╌╌╌╌╌╌╌┼╌╌╌╌╌╌╌╌╌┤\n",
      "│ z       ┆ 9       │\n",
      "└─────────┴─────────┘\n"
     ]
    }
   ],
   "source": [
    "df = df[[\"col_str\", \"col_int\"]].vstack(\n",
    "    pl.DataFrame(\n",
    "        {\n",
    "            \"col_str\": [\"x\", \"y\", \"z\"],\n",
    "            \"col_int\": [7, 8, 9],\n",
    "        }\n",
    "    )\n",
    ")\n",
    "print(df)"
   ]
  },
  {
   "cell_type": "markdown",
   "id": "e2fe3e3a",
   "metadata": {},
   "source": [
    "#### フィルターとソート"
   ]
  },
  {
   "cell_type": "code",
   "execution_count": 20,
   "id": "6b4c9142",
   "metadata": {},
   "outputs": [
    {
     "name": "stdout",
     "output_type": "stream",
     "text": [
      "shape: (3, 2)\n",
      "┌─────────┬─────────┐\n",
      "│ col_str ┆ col_int │\n",
      "│ ---     ┆ ---     │\n",
      "│ str     ┆ i64     │\n",
      "╞═════════╪═════════╡\n",
      "│ x       ┆ 7       │\n",
      "├╌╌╌╌╌╌╌╌╌┼╌╌╌╌╌╌╌╌╌┤\n",
      "│ c       ┆ 3       │\n",
      "├╌╌╌╌╌╌╌╌╌┼╌╌╌╌╌╌╌╌╌┤\n",
      "│ a       ┆ 1       │\n",
      "└─────────┴─────────┘\n"
     ]
    }
   ],
   "source": [
    "df = df.filter((pl.col(\"col_int\") >= 1) & (pl.col(\"col_int\") <= 7))\n",
    "df = df.sort(\"col_int\", reverse=True)\n",
    "print(df)"
   ]
  },
  {
   "cell_type": "markdown",
   "id": "09a74dab",
   "metadata": {},
   "source": [
    "#### シフト"
   ]
  },
  {
   "cell_type": "code",
   "execution_count": 21,
   "id": "2b32485e",
   "metadata": {},
   "outputs": [
    {
     "name": "stdout",
     "output_type": "stream",
     "text": [
      "shape: (3, 3)\n",
      "┌─────────┬─────────┬─────────────────┐\n",
      "│ col_str ┆ col_int ┆ col_int_shifted │\n",
      "│ ---     ┆ ---     ┆ ---             │\n",
      "│ str     ┆ i64     ┆ i64             │\n",
      "╞═════════╪═════════╪═════════════════╡\n",
      "│ x       ┆ 7       ┆ null            │\n",
      "├╌╌╌╌╌╌╌╌╌┼╌╌╌╌╌╌╌╌╌┼╌╌╌╌╌╌╌╌╌╌╌╌╌╌╌╌╌┤\n",
      "│ c       ┆ 3       ┆ 7               │\n",
      "├╌╌╌╌╌╌╌╌╌┼╌╌╌╌╌╌╌╌╌┼╌╌╌╌╌╌╌╌╌╌╌╌╌╌╌╌╌┤\n",
      "│ a       ┆ 1       ┆ 3               │\n",
      "└─────────┴─────────┴─────────────────┘\n"
     ]
    }
   ],
   "source": [
    "df[\"col_int_shifted\"] = df[\"col_int\"].shift(1)\n",
    "print(df)"
   ]
  },
  {
   "cell_type": "markdown",
   "id": "573aa96a",
   "metadata": {},
   "source": [
    "#### 集約"
   ]
  },
  {
   "cell_type": "code",
   "execution_count": 22,
   "id": "af9ab124",
   "metadata": {},
   "outputs": [],
   "source": [
    "df = pl.DataFrame(\n",
    "    {\n",
    "        \"col_str\": [\"a\", \"b\", \"c\", \"a\", \"b\", \"c\", \"a\", \"b\", \"a\", \"c\"],\n",
    "        \"col_int\": [1, 3, 2, 6, 5, 3, 1, 4, 2, 1],\n",
    "        \"col_float\": [0.2, 0.4, 0.1, 0.5, 0.6, 0.8, 0.9, 0.1, 0.5, 0.2],\n",
    "    }\n",
    ")"
   ]
  },
  {
   "cell_type": "markdown",
   "id": "c5c6918d",
   "metadata": {},
   "source": [
    "#### describe"
   ]
  },
  {
   "cell_type": "code",
   "execution_count": 23,
   "id": "67f2d6bb",
   "metadata": {},
   "outputs": [
    {
     "name": "stdout",
     "output_type": "stream",
     "text": [
      "shape: (5, 4)\n",
      "┌──────────┬─────────┬────────────────────┬─────────────────────┐\n",
      "│ describe ┆ col_str ┆ col_int            ┆ col_float           │\n",
      "│ ---      ┆ ---     ┆ ---                ┆ ---                 │\n",
      "│ str      ┆ str     ┆ f64                ┆ f64                 │\n",
      "╞══════════╪═════════╪════════════════════╪═════════════════════╡\n",
      "│ mean     ┆ null    ┆ 2.8                ┆ 0.43000000000000005 │\n",
      "├╌╌╌╌╌╌╌╌╌╌┼╌╌╌╌╌╌╌╌╌┼╌╌╌╌╌╌╌╌╌╌╌╌╌╌╌╌╌╌╌╌┼╌╌╌╌╌╌╌╌╌╌╌╌╌╌╌╌╌╌╌╌╌┤\n",
      "│ std      ┆ null    ┆ 1.7511900715418263 ┆ 0.28303906287138375 │\n",
      "├╌╌╌╌╌╌╌╌╌╌┼╌╌╌╌╌╌╌╌╌┼╌╌╌╌╌╌╌╌╌╌╌╌╌╌╌╌╌╌╌╌┼╌╌╌╌╌╌╌╌╌╌╌╌╌╌╌╌╌╌╌╌╌┤\n",
      "│ min      ┆ null    ┆ 1                  ┆ 0.1                 │\n",
      "├╌╌╌╌╌╌╌╌╌╌┼╌╌╌╌╌╌╌╌╌┼╌╌╌╌╌╌╌╌╌╌╌╌╌╌╌╌╌╌╌╌┼╌╌╌╌╌╌╌╌╌╌╌╌╌╌╌╌╌╌╌╌╌┤\n",
      "│ max      ┆ null    ┆ 6                  ┆ 0.9                 │\n",
      "├╌╌╌╌╌╌╌╌╌╌┼╌╌╌╌╌╌╌╌╌┼╌╌╌╌╌╌╌╌╌╌╌╌╌╌╌╌╌╌╌╌┼╌╌╌╌╌╌╌╌╌╌╌╌╌╌╌╌╌╌╌╌╌┤\n",
      "│ median   ┆ null    ┆ 2.5                ┆ 0.45                │\n",
      "└──────────┴─────────┴────────────────────┴─────────────────────┘\n"
     ]
    }
   ],
   "source": [
    "print(df.describe())"
   ]
  },
  {
   "cell_type": "markdown",
   "id": "f7ae9578",
   "metadata": {},
   "source": [
    "#### groupby"
   ]
  },
  {
   "cell_type": "code",
   "execution_count": 24,
   "id": "d06952c3",
   "metadata": {},
   "outputs": [
    {
     "name": "stdout",
     "output_type": "stream",
     "text": [
      "shape: (3, 3)\n",
      "┌─────────┬─────────────┬───────────────┐\n",
      "│ col_str ┆ col_int_max ┆ col_float_max │\n",
      "│ ---     ┆ ---         ┆ ---           │\n",
      "│ str     ┆ i64         ┆ f64           │\n",
      "╞═════════╪═════════════╪═══════════════╡\n",
      "│ a       ┆ 6           ┆ 0.9           │\n",
      "├╌╌╌╌╌╌╌╌╌┼╌╌╌╌╌╌╌╌╌╌╌╌╌┼╌╌╌╌╌╌╌╌╌╌╌╌╌╌╌┤\n",
      "│ b       ┆ 5           ┆ 0.6           │\n",
      "├╌╌╌╌╌╌╌╌╌┼╌╌╌╌╌╌╌╌╌╌╌╌╌┼╌╌╌╌╌╌╌╌╌╌╌╌╌╌╌┤\n",
      "│ c       ┆ 3           ┆ 0.8           │\n",
      "└─────────┴─────────────┴───────────────┘\n"
     ]
    }
   ],
   "source": [
    "print(df.groupby(\"col_str\").max())"
   ]
  },
  {
   "cell_type": "code",
   "execution_count": 25,
   "id": "ae39cd36",
   "metadata": {},
   "outputs": [
    {
     "name": "stdout",
     "output_type": "stream",
     "text": [
      "shape: (3, 2)\n",
      "┌─────────┬─────────────┐\n",
      "│ col_str ┆ col_int_min │\n",
      "│ ---     ┆ ---         │\n",
      "│ str     ┆ i64         │\n",
      "╞═════════╪═════════════╡\n",
      "│ c       ┆ 1           │\n",
      "├╌╌╌╌╌╌╌╌╌┼╌╌╌╌╌╌╌╌╌╌╌╌╌┤\n",
      "│ a       ┆ 1           │\n",
      "├╌╌╌╌╌╌╌╌╌┼╌╌╌╌╌╌╌╌╌╌╌╌╌┤\n",
      "│ b       ┆ 3           │\n",
      "└─────────┴─────────────┘\n"
     ]
    }
   ],
   "source": [
    "print(df.groupby(\"col_str\").agg({\"col_int\": \"min\"}))"
   ]
  },
  {
   "cell_type": "code",
   "execution_count": 26,
   "id": "97901a62",
   "metadata": {},
   "outputs": [
    {
     "name": "stdout",
     "output_type": "stream",
     "text": [
      "shape: (3, 7)\n",
      "┌─────────┬────────────────┬─────────────┬─────────┬───────────────┬───────────────┬───────────────┐\n",
      "│ col_str ┆ col_float_sum  ┆ col_int_sum ┆ int_sum ┆ col_int_agg_l ┆ col_int_first ┆ col_int_gt_2_ │\n",
      "│ ---     ┆ ---            ┆ ---         ┆ ---     ┆ ist           ┆ ---           ┆ count         │\n",
      "│ str     ┆ f64            ┆ i64         ┆ i64     ┆ ---           ┆ i64           ┆ ---           │\n",
      "│         ┆                ┆             ┆         ┆ list [i64]    ┆               ┆ u32           │\n",
      "╞═════════╪════════════════╪═════════════╪═════════╪═══════════════╪═══════════════╪═══════════════╡\n",
      "│ a       ┆ 2.1            ┆ 10          ┆ 10      ┆ [1, 6, ... 2] ┆ 1             ┆ 1             │\n",
      "├╌╌╌╌╌╌╌╌╌┼╌╌╌╌╌╌╌╌╌╌╌╌╌╌╌╌┼╌╌╌╌╌╌╌╌╌╌╌╌╌┼╌╌╌╌╌╌╌╌╌┼╌╌╌╌╌╌╌╌╌╌╌╌╌╌╌┼╌╌╌╌╌╌╌╌╌╌╌╌╌╌╌┼╌╌╌╌╌╌╌╌╌╌╌╌╌╌╌┤\n",
      "│ c       ┆ 1.1            ┆ 6           ┆ 6       ┆ [2, 3, 1]     ┆ 2             ┆ 1             │\n",
      "├╌╌╌╌╌╌╌╌╌┼╌╌╌╌╌╌╌╌╌╌╌╌╌╌╌╌┼╌╌╌╌╌╌╌╌╌╌╌╌╌┼╌╌╌╌╌╌╌╌╌┼╌╌╌╌╌╌╌╌╌╌╌╌╌╌╌┼╌╌╌╌╌╌╌╌╌╌╌╌╌╌╌┼╌╌╌╌╌╌╌╌╌╌╌╌╌╌╌┤\n",
      "│ b       ┆ 1.1            ┆ 12          ┆ 12      ┆ [3, 5, 4]     ┆ 3             ┆ 3             │\n",
      "└─────────┴────────────────┴─────────────┴─────────┴───────────────┴───────────────┴───────────────┘\n"
     ]
    }
   ],
   "source": [
    "print(\n",
    "    df.groupby(\"col_str\").agg(\n",
    "        [\n",
    "            pl.col(\"col_float\").sum(),\n",
    "            pl.sum(\"col_int\"),  # 短く書ける\n",
    "            pl.sum(\"col_int\").alias(\"int_sum\"),  # 列名を自分でつけられる\n",
    "            pl.col(\"col_int\").list(),  # list にもできる\n",
    "            pl.col(\"col_int\").first(),  # 他にも count, mean, などなど\n",
    "            (pl.col(\"col_int\") > 2).sum().alias(\"col_int_gt_2_count\"),  # 条件を満たすものをカウント\n",
    "        ]\n",
    "    )\n",
    ")"
   ]
  },
  {
   "cell_type": "markdown",
   "id": "57d81579",
   "metadata": {},
   "source": [
    "#### Window 関数"
   ]
  },
  {
   "cell_type": "code",
   "execution_count": 27,
   "id": "43689d9e",
   "metadata": {},
   "outputs": [
    {
     "name": "stdout",
     "output_type": "stream",
     "text": [
      "shape: (10, 5)\n",
      "┌─────────┬─────────┬───────────┬────────────────┬────────────────────┐\n",
      "│ col_str ┆ col_int ┆ col_float ┆ max_int_by_str ┆ avg_float_by_str   │\n",
      "│ ---     ┆ ---     ┆ ---       ┆ ---            ┆ ---                │\n",
      "│ str     ┆ i64     ┆ f64       ┆ i64            ┆ f64                │\n",
      "╞═════════╪═════════╪═══════════╪════════════════╪════════════════════╡\n",
      "│ a       ┆ 1       ┆ 0.2       ┆ 6              ┆ 0.525              │\n",
      "├╌╌╌╌╌╌╌╌╌┼╌╌╌╌╌╌╌╌╌┼╌╌╌╌╌╌╌╌╌╌╌┼╌╌╌╌╌╌╌╌╌╌╌╌╌╌╌╌┼╌╌╌╌╌╌╌╌╌╌╌╌╌╌╌╌╌╌╌╌┤\n",
      "│ b       ┆ 3       ┆ 0.4       ┆ 5              ┆ 0.3666666666666667 │\n",
      "├╌╌╌╌╌╌╌╌╌┼╌╌╌╌╌╌╌╌╌┼╌╌╌╌╌╌╌╌╌╌╌┼╌╌╌╌╌╌╌╌╌╌╌╌╌╌╌╌┼╌╌╌╌╌╌╌╌╌╌╌╌╌╌╌╌╌╌╌╌┤\n",
      "│ c       ┆ 2       ┆ 0.1       ┆ 3              ┆ 0.3666666666666667 │\n",
      "├╌╌╌╌╌╌╌╌╌┼╌╌╌╌╌╌╌╌╌┼╌╌╌╌╌╌╌╌╌╌╌┼╌╌╌╌╌╌╌╌╌╌╌╌╌╌╌╌┼╌╌╌╌╌╌╌╌╌╌╌╌╌╌╌╌╌╌╌╌┤\n",
      "│ a       ┆ 6       ┆ 0.5       ┆ 6              ┆ 0.525              │\n",
      "├╌╌╌╌╌╌╌╌╌┼╌╌╌╌╌╌╌╌╌┼╌╌╌╌╌╌╌╌╌╌╌┼╌╌╌╌╌╌╌╌╌╌╌╌╌╌╌╌┼╌╌╌╌╌╌╌╌╌╌╌╌╌╌╌╌╌╌╌╌┤\n",
      "│ b       ┆ 5       ┆ 0.6       ┆ 5              ┆ 0.3666666666666667 │\n",
      "├╌╌╌╌╌╌╌╌╌┼╌╌╌╌╌╌╌╌╌┼╌╌╌╌╌╌╌╌╌╌╌┼╌╌╌╌╌╌╌╌╌╌╌╌╌╌╌╌┼╌╌╌╌╌╌╌╌╌╌╌╌╌╌╌╌╌╌╌╌┤\n",
      "│ c       ┆ 3       ┆ 0.8       ┆ 3              ┆ 0.3666666666666667 │\n",
      "├╌╌╌╌╌╌╌╌╌┼╌╌╌╌╌╌╌╌╌┼╌╌╌╌╌╌╌╌╌╌╌┼╌╌╌╌╌╌╌╌╌╌╌╌╌╌╌╌┼╌╌╌╌╌╌╌╌╌╌╌╌╌╌╌╌╌╌╌╌┤\n",
      "│ a       ┆ 1       ┆ 0.9       ┆ 6              ┆ 0.525              │\n",
      "├╌╌╌╌╌╌╌╌╌┼╌╌╌╌╌╌╌╌╌┼╌╌╌╌╌╌╌╌╌╌╌┼╌╌╌╌╌╌╌╌╌╌╌╌╌╌╌╌┼╌╌╌╌╌╌╌╌╌╌╌╌╌╌╌╌╌╌╌╌┤\n",
      "│ b       ┆ 4       ┆ 0.1       ┆ 5              ┆ 0.3666666666666667 │\n",
      "├╌╌╌╌╌╌╌╌╌┼╌╌╌╌╌╌╌╌╌┼╌╌╌╌╌╌╌╌╌╌╌┼╌╌╌╌╌╌╌╌╌╌╌╌╌╌╌╌┼╌╌╌╌╌╌╌╌╌╌╌╌╌╌╌╌╌╌╌╌┤\n",
      "│ a       ┆ 2       ┆ 0.5       ┆ 6              ┆ 0.525              │\n",
      "├╌╌╌╌╌╌╌╌╌┼╌╌╌╌╌╌╌╌╌┼╌╌╌╌╌╌╌╌╌╌╌┼╌╌╌╌╌╌╌╌╌╌╌╌╌╌╌╌┼╌╌╌╌╌╌╌╌╌╌╌╌╌╌╌╌╌╌╌╌┤\n",
      "│ c       ┆ 1       ┆ 0.2       ┆ 3              ┆ 0.3666666666666667 │\n",
      "└─────────┴─────────┴───────────┴────────────────┴────────────────────┘\n"
     ]
    }
   ],
   "source": [
    "print(\n",
    "    df.select(\n",
    "        [\n",
    "            \"col_str\",\n",
    "            \"col_int\",\n",
    "            \"col_float\",\n",
    "            pl.col(\"col_int\").max().over(\"col_str\").alias(\"max_int_by_str\"),\n",
    "            pl.col(\"col_float\").mean().over(\"col_str\").alias(\"avg_float_by_str\"),\n",
    "        ]\n",
    "    )\n",
    ")"
   ]
  },
  {
   "cell_type": "code",
   "execution_count": 28,
   "id": "9396f6b5",
   "metadata": {},
   "outputs": [
    {
     "name": "stdout",
     "output_type": "stream",
     "text": [
      "shape: (10, 4)\n",
      "┌─────────┬─────────┬───────────┬─────────────────┐\n",
      "│ col_str ┆ col_int ┆ col_float ┆ rank_int_by_str │\n",
      "│ ---     ┆ ---     ┆ ---       ┆ ---             │\n",
      "│ str     ┆ i64     ┆ f64       ┆ u32             │\n",
      "╞═════════╪═════════╪═══════════╪═════════════════╡\n",
      "│ a       ┆ 1       ┆ 0.2       ┆ 1               │\n",
      "├╌╌╌╌╌╌╌╌╌┼╌╌╌╌╌╌╌╌╌┼╌╌╌╌╌╌╌╌╌╌╌┼╌╌╌╌╌╌╌╌╌╌╌╌╌╌╌╌╌┤\n",
      "│ a       ┆ 6       ┆ 0.5       ┆ 4               │\n",
      "├╌╌╌╌╌╌╌╌╌┼╌╌╌╌╌╌╌╌╌┼╌╌╌╌╌╌╌╌╌╌╌┼╌╌╌╌╌╌╌╌╌╌╌╌╌╌╌╌╌┤\n",
      "│ a       ┆ 1       ┆ 0.9       ┆ 1               │\n",
      "├╌╌╌╌╌╌╌╌╌┼╌╌╌╌╌╌╌╌╌┼╌╌╌╌╌╌╌╌╌╌╌┼╌╌╌╌╌╌╌╌╌╌╌╌╌╌╌╌╌┤\n",
      "│ a       ┆ 2       ┆ 0.5       ┆ 3               │\n",
      "├╌╌╌╌╌╌╌╌╌┼╌╌╌╌╌╌╌╌╌┼╌╌╌╌╌╌╌╌╌╌╌┼╌╌╌╌╌╌╌╌╌╌╌╌╌╌╌╌╌┤\n",
      "│ b       ┆ 3       ┆ 0.4       ┆ 1               │\n",
      "├╌╌╌╌╌╌╌╌╌┼╌╌╌╌╌╌╌╌╌┼╌╌╌╌╌╌╌╌╌╌╌┼╌╌╌╌╌╌╌╌╌╌╌╌╌╌╌╌╌┤\n",
      "│ b       ┆ 5       ┆ 0.6       ┆ 3               │\n",
      "├╌╌╌╌╌╌╌╌╌┼╌╌╌╌╌╌╌╌╌┼╌╌╌╌╌╌╌╌╌╌╌┼╌╌╌╌╌╌╌╌╌╌╌╌╌╌╌╌╌┤\n",
      "│ b       ┆ 4       ┆ 0.1       ┆ 2               │\n",
      "├╌╌╌╌╌╌╌╌╌┼╌╌╌╌╌╌╌╌╌┼╌╌╌╌╌╌╌╌╌╌╌┼╌╌╌╌╌╌╌╌╌╌╌╌╌╌╌╌╌┤\n",
      "│ c       ┆ 2       ┆ 0.1       ┆ 2               │\n",
      "├╌╌╌╌╌╌╌╌╌┼╌╌╌╌╌╌╌╌╌┼╌╌╌╌╌╌╌╌╌╌╌┼╌╌╌╌╌╌╌╌╌╌╌╌╌╌╌╌╌┤\n",
      "│ c       ┆ 3       ┆ 0.8       ┆ 3               │\n",
      "├╌╌╌╌╌╌╌╌╌┼╌╌╌╌╌╌╌╌╌┼╌╌╌╌╌╌╌╌╌╌╌┼╌╌╌╌╌╌╌╌╌╌╌╌╌╌╌╌╌┤\n",
      "│ c       ┆ 1       ┆ 0.2       ┆ 1               │\n",
      "└─────────┴─────────┴───────────┴─────────────────┘\n"
     ]
    }
   ],
   "source": [
    "# overの中身でsortしておかないと上手くいかない\n",
    "print(\n",
    "    df.sort(\"col_str\").select(\n",
    "        [\n",
    "            \"col_str\",\n",
    "            \"col_int\",\n",
    "            \"col_float\",\n",
    "            pl.col(\"col_int\")\n",
    "            .rank(\"min\")\n",
    "            .over(\"col_str\")\n",
    "            .flatten()\n",
    "            .alias(\"rank_int_by_str\"),\n",
    "        ]\n",
    "    )\n",
    ")"
   ]
  },
  {
   "cell_type": "code",
   "execution_count": null,
   "id": "f56710fe",
   "metadata": {},
   "outputs": [],
   "source": []
  }
 ],
 "metadata": {
  "kernelspec": {
   "display_name": "Python 3 (ipykernel)",
   "language": "python",
   "name": "python3"
  },
  "language_info": {
   "codemirror_mode": {
    "name": "ipython",
    "version": 3
   },
   "file_extension": ".py",
   "mimetype": "text/x-python",
   "name": "python",
   "nbconvert_exporter": "python",
   "pygments_lexer": "ipython3",
   "version": "3.9.6"
  }
 },
 "nbformat": 4,
 "nbformat_minor": 5
}
